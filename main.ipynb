{
 "metadata": {
  "language_info": {
   "codemirror_mode": {
    "name": "ipython",
    "version": 3
   },
   "file_extension": ".py",
   "mimetype": "text/x-python",
   "name": "python",
   "nbconvert_exporter": "python",
   "pygments_lexer": "ipython3",
   "version": "3.8.5"
  },
  "orig_nbformat": 2,
  "kernelspec": {
   "name": "python385jvsc74a57bd031f2aee4e71d21fbe5cf8b01ff0e069b9275f58929596ceb00d14d90e3e16cd6",
   "display_name": "Python 3.8.5 64-bit"
  },
  "metadata": {
   "interpreter": {
    "hash": "31f2aee4e71d21fbe5cf8b01ff0e069b9275f58929596ceb00d14d90e3e16cd6"
   }
  }
 },
 "nbformat": 4,
 "nbformat_minor": 2,
 "cells": [
  {
   "source": [
    "# Avaliação Sprint 3"
   ],
   "cell_type": "markdown",
   "metadata": {}
  },
  {
   "source": [
    "## Import das bibliotecas necessárias"
   ],
   "cell_type": "markdown",
   "metadata": {}
  },
  {
   "cell_type": "code",
   "execution_count": 2,
   "metadata": {},
   "outputs": [],
   "source": [
    "import pandas as pd\n",
    "from bs4 import BeautifulSoup\n",
    "from urllib.request import urlopen\n",
    "from pymongo import MongoClient\n",
    "import spacy\n",
    "from wordcloud import WordCloud\n",
    "import matplotlib.pyplot as plt\n"
   ]
  },
  {
   "source": [
    "## Conexão com o banco de dados Mongo"
   ],
   "cell_type": "markdown",
   "metadata": {}
  },
  {
   "cell_type": "code",
   "execution_count": 3,
   "metadata": {},
   "outputs": [],
   "source": [
    "client = MongoClient(\"localhost\", 27017)\n",
    "artigos_db = client[\"Artigos\"]\n",
    "artigos = artigos_db[\"Coleção_artigos\"]"
   ]
  },
  {
   "source": [
    "## Fazendo o scrapping dos artigos"
   ],
   "cell_type": "markdown",
   "metadata": {}
  },
  {
   "cell_type": "code",
   "execution_count": 5,
   "metadata": {},
   "outputs": [],
   "source": [
    "urls = [\n",
    "    \"https://www1.folha.uol.com.br/banco-de-dados/2021/05/1921-transporte-de-cavalos-de-corrida-burla-proibicao-em-sao-paulo.shtml\",\n",
    "    \"https://www1.folha.uol.com.br/banco-de-dados/2021/06/1921-apos-sucesso-nos-eua-pianista-guiomar-novaes-chega-a-sao-paulo.shtml\",\n",
    "    \"https://www1.folha.uol.com.br/banco-de-dados/2021/05/1921-missao-italiana-vem-ao-brasil-buscar-ajuda-para-mutilados-na-guerra.shtml\",\n",
    "    \"https://www1.folha.uol.com.br/banco-de-dados/2021/05/1971-franca-aprova-entrada-do-reino-unido-no-mercado-comum-europeu.shtml\",\n",
    "    \"https://www1.folha.uol.com.br/banco-de-dados/2021/05/1921-empresa-de-campinas-vai-comecar-a-vender-carne-fresca-a-paulistanos.shtml\",\n",
    "    \"https://www1.folha.uol.com.br/banco-de-dados/2021/05/1921-teatro-polytheama-em-ribeirao-preto-e-destruido-por-incendio.shtml\",\n",
    "    \"https://www1.folha.uol.com.br/banco-de-dados/2021/04/1921-tracado-de-estrada-que-ligara-limeira-a-araras-e-estudado.shtml\",\n",
    "    \"https://www1.folha.uol.com.br/banco-de-dados/2021/03/1971-guerra-civil-estoura-no-paquistao-oriental-que-deseja-independencia.shtml\",\n",
    "    \"https://www1.folha.uol.com.br/banco-de-dados/2021/03/1921-estrada-vai-facilitar-ligacao-de-sao-paulo-com-triangulo-mineiro-e-goias.shtml\",\n",
    "    \"https://www1.folha.uol.com.br/banco-de-dados/2021/02/1921-autoridade-do-reino-unido-reafirma-luta-contra-movimento-irlandes.shtml\"\n",
    "] # lista das urls dos artigos\n",
    "\n"
   ]
  },
  {
   "cell_type": "code",
   "execution_count": 69,
   "metadata": {},
   "outputs": [],
   "source": [
    "lista_artigos = []\n",
    "for url in urls:\n",
    "    response = urlopen(url)\n",
    "    html = response.read().decode('utf8')\n",
    "\n",
    "    soup = BeautifulSoup(html, 'html.parser')\n",
    "\n",
    "    # Extraindo o texto de cada paragrafo dos artigos, sem as tags html\n",
    "    paragrafos_artigo = [paragrafo.text for paragrafo in soup.find('div', {'class': 'c-news__body'}).findAll('p')]\n",
    "\n",
    "    lista_artigos.append({'Paragrafos': paragrafos_artigo})\n",
    "\n"
   ]
  },
  {
   "cell_type": "code",
   "execution_count": 63,
   "metadata": {},
   "outputs": [
    {
     "output_type": "execute_result",
     "data": {
      "text/plain": [
       "{'Paragrafos': ['Está sendo burlada a proibição de transportar animais nas estradas que convergem a São Paulo.',\n",
       "  'Dias depois do aparecimento da peste bovina nos arredores da capital, as autoridades sanitárias tinham lembrado o governo da necessidade de estabelecer essa proibição.',\n",
       "  'Apesar da medida, jornais noticiaram a ida e vinda de cavalos de corrida entre a capital e Santos. A fim de mascarar a manobra, os animais são enviados para São Bernardo e de lá são transportados para a outra cidade.',\n",
       "  'Isso ocorre como se a transmissão da peste não fosse possível nas patas de cavalos ingleses, que custam caro.']}"
      ]
     },
     "metadata": {},
     "execution_count": 63
    }
   ],
   "source": [
    "lista_artigos[0]"
   ]
  },
  {
   "source": [
    "## Salvando os artigos no MongoDB"
   ],
   "cell_type": "markdown",
   "metadata": {}
  },
  {
   "cell_type": "code",
   "execution_count": 64,
   "metadata": {
    "tags": []
   },
   "outputs": [
    {
     "output_type": "execute_result",
     "data": {
      "text/plain": [
       "<pymongo.results.InsertOneResult at 0x7ffcdc464a00>"
      ]
     },
     "metadata": {},
     "execution_count": 64
    }
   ],
   "source": [
    "artigos.insert_one({'Artigos': lista_artigos})\n"
   ]
  },
  {
   "source": [
    "## Criando um dataset com os paragrafos dos artigos"
   ],
   "cell_type": "markdown",
   "metadata": {}
  },
  {
   "cell_type": "code",
   "execution_count": 65,
   "metadata": {},
   "outputs": [
    {
     "output_type": "execute_result",
     "data": {
      "text/plain": [
       "                                                                                                                                                                                                                                                                                                                                                                                                                                                                                                            Paragrafos\n",
       "0  [Está sendo burlada a proibição de transportar animais nas estradas que convergem a São Paulo., Dias depois do aparecimento da peste bovina nos arredores da capital, as autoridades sanitárias tinham lembrado o governo da necessidade de estabelecer essa proibição., Apesar da medida, jornais noticiaram a ida e vinda de cavalos de corrida entre a capital e Santos. A fim de mascarar a manobra, os animais são enviados para São Bernardo e de lá são transportados para a outra cidade., Isso ocorre c...\n",
       "1  [A pianista Guiomar Novaes chegou a São Paulo nesta quinta-feira (2). Ela veio em um trem noturno do Rio de Janeiro, após regressar de uma viagem triunfal aos Estados Unidos, onde foi considerada, por vários críticos, a maior virtuose do mundo., Guiomar Novaes tinha viajado para os EUA em dezembro de 1920 para realizar uma série de concertos, mas foi tanto o seu sucesso em Nova York e em outras cidades que a sequência de apresentações teve que ser ampliada., Ela tem recebido propostas para t...\n",
       "2  [A missão italiana de mutilados na guerra chegou ao Rio de Janeiro, nesta quinta-feira (25), vinda de Buenos Aires, onde buscou angariar donativos., O grupo, chefiado pelo tenente Carlo Delcroix, veio ao Brasil com o mesmo objetivo. Por meio de conferências e de outras atividades, vai tentar arrecadar fundos para minorar o sofrimento dos feridos no conflito., Elevado número de membros da colônia italiana no Rio compareceu ao desembarque da missão. Várias festas devem ser feitas., No início d...\n",
       "3  [A França deu o seu “sim” para o ingresso do Reino Unido no Mercado Comum Europeu, depois de dez horas de conversações entre o presidente francês, Georges Pompidou, e o primeiro-ministro britânico, Edward Heath., A entrada pode ser concretizada já no próximo mês., O comunicado, com a declaração conjunta, afirma que muitos pontos de vista são suficientes próximos que não há pessimismo., O Mercado Comum Europeu é formado pela Alemanha Ocidental, Bélgica, Itália, Holanda, Luxemburgo e França., ...\n",
       "4  [Uma empresa particular, de Campinas, vai passar a vender carne fresca para os moradores da cidade de São Paulo a partir desta terça-feira (10)., Por causa da peste bovina, a população da capital vinha sendo abastecida com carnes apenas congeladas ou frigorificadas. No entanto, muitos não gostam de comprar assim e reclamam da qualidade. Além disso, o preço está elevado., O fato é que o paulistano acabou reduzindo o consumo nesse período., Isso induziu a empresa Figueiredo & Cia a preparar um..."
      ],
      "text/html": "<div>\n<style scoped>\n    .dataframe tbody tr th:only-of-type {\n        vertical-align: middle;\n    }\n\n    .dataframe tbody tr th {\n        vertical-align: top;\n    }\n\n    .dataframe thead th {\n        text-align: right;\n    }\n</style>\n<table border=\"1\" class=\"dataframe\">\n  <thead>\n    <tr style=\"text-align: right;\">\n      <th></th>\n      <th>Paragrafos</th>\n    </tr>\n  </thead>\n  <tbody>\n    <tr>\n      <th>0</th>\n      <td>[Está sendo burlada a proibição de transportar animais nas estradas que convergem a São Paulo., Dias depois do aparecimento da peste bovina nos arredores da capital, as autoridades sanitárias tinham lembrado o governo da necessidade de estabelecer essa proibição., Apesar da medida, jornais noticiaram a ida e vinda de cavalos de corrida entre a capital e Santos. A fim de mascarar a manobra, os animais são enviados para São Bernardo e de lá são transportados para a outra cidade., Isso ocorre c...</td>\n    </tr>\n    <tr>\n      <th>1</th>\n      <td>[A pianista Guiomar Novaes chegou a São Paulo nesta quinta-feira (2). Ela veio em um trem noturno do Rio de Janeiro, após regressar de uma viagem triunfal aos Estados Unidos, onde foi considerada, por vários críticos, a maior virtuose do mundo., Guiomar Novaes tinha viajado para os EUA em dezembro de 1920 para realizar uma série de concertos, mas foi tanto o seu sucesso em Nova York e em outras cidades que a sequência de apresentações teve que ser ampliada., Ela tem recebido propostas para t...</td>\n    </tr>\n    <tr>\n      <th>2</th>\n      <td>[A missão italiana de mutilados na guerra chegou ao Rio de Janeiro, nesta quinta-feira (25), vinda de Buenos Aires, onde buscou angariar donativos., O grupo, chefiado pelo tenente Carlo Delcroix, veio ao Brasil com o mesmo objetivo. Por meio de conferências e de outras atividades, vai tentar arrecadar fundos para minorar o sofrimento dos feridos no conflito., Elevado número de membros da colônia italiana no Rio compareceu ao desembarque da missão. Várias festas devem ser feitas., No início d...</td>\n    </tr>\n    <tr>\n      <th>3</th>\n      <td>[A França deu o seu “sim” para o ingresso do Reino Unido no Mercado Comum Europeu, depois de dez horas de conversações entre o presidente francês, Georges Pompidou, e o primeiro-ministro britânico, Edward Heath., A entrada pode ser concretizada já no próximo mês., O comunicado, com a declaração conjunta, afirma que muitos pontos de vista são suficientes próximos que não há pessimismo., O Mercado Comum Europeu é formado pela Alemanha Ocidental, Bélgica, Itália, Holanda, Luxemburgo e França., ...</td>\n    </tr>\n    <tr>\n      <th>4</th>\n      <td>[Uma empresa particular, de Campinas, vai passar a vender carne fresca para os moradores da cidade de São Paulo a partir desta terça-feira (10)., Por causa da peste bovina, a população da capital vinha sendo abastecida com carnes apenas congeladas ou frigorificadas. No entanto, muitos não gostam de comprar assim e reclamam da qualidade. Além disso, o preço está elevado., O fato é que o paulistano acabou reduzindo o consumo nesse período., Isso induziu a empresa Figueiredo &amp; Cia a preparar um...</td>\n    </tr>\n  </tbody>\n</table>\n</div>"
     },
     "metadata": {},
     "execution_count": 65
    }
   ],
   "source": [
    "paragrafos_artigos = artigos.find({'Artigos': lista_artigos}) # Retirando os paragrafos direto do mongo\n",
    "for paragrafo in paragrafos_artigos:\n",
    "    # Os paragrafos são transformados em dataframe\n",
    "    df_paragrafos = pd.DataFrame(paragrafo['Artigos'])\n",
    "df_paragrafos.head()"
   ]
  },
  {
   "cell_type": "code",
   "execution_count": 66,
   "metadata": {},
   "outputs": [],
   "source": [
    "nlp = spacy.load(\"pt_core_news_sm\")\n",
    "doc = nlp(str(df_paragrafos.Paragrafos))"
   ]
  },
  {
   "source": [
    "## Retirando as stop words"
   ],
   "cell_type": "markdown",
   "metadata": {}
  },
  {
   "cell_type": "code",
   "execution_count": 81,
   "metadata": {},
   "outputs": [],
   "source": [
    "def retira_stop_words(artigos):\n",
    "    palavras_tokens = []\n",
    "\n",
    "    # Transforma cada palavra do artigo em token\n",
    "    nlp = spacy.load(\"pt_core_news_sm\") # nlp em português\n",
    "    doc = nlp(str(artigos))\n",
    "\n",
    "    for palavra_token in doc:\n",
    "        palavra = not palavra_token.is_stop and palavra_token.is_alpha\n",
    "\n",
    "        if palavra:\n",
    "            # Adiciona na lista e deixa a palavra em minusculo\n",
    "            palavras_tokens.append(palavra_token.text.lower())\n",
    "    \n",
    "    return ' '.join(palavras_tokens)"
   ]
  },
  {
   "cell_type": "code",
   "execution_count": 82,
   "metadata": {},
   "outputs": [],
   "source": [
    "artigos_processados = []\n",
    "\n",
    "for paragrafos in df_paragrafos.Paragrafos:\n",
    "    artigos_processados.append(retira_stop_words(paragrafos))"
   ]
  },
  {
   "cell_type": "code",
   "execution_count": 83,
   "metadata": {},
   "outputs": [
    {
     "output_type": "execute_result",
     "data": {
      "text/plain": [
       "                                                                                                                                                                                                                                                                                                                                                                                                                                                                                                            Paragrafos  \\\n",
       "0  [Está sendo burlada a proibição de transportar animais nas estradas que convergem a São Paulo., Dias depois do aparecimento da peste bovina nos arredores da capital, as autoridades sanitárias tinham lembrado o governo da necessidade de estabelecer essa proibição., Apesar da medida, jornais noticiaram a ida e vinda de cavalos de corrida entre a capital e Santos. A fim de mascarar a manobra, os animais são enviados para São Bernardo e de lá são transportados para a outra cidade., Isso ocorre c...   \n",
       "1  [A pianista Guiomar Novaes chegou a São Paulo nesta quinta-feira (2). Ela veio em um trem noturno do Rio de Janeiro, após regressar de uma viagem triunfal aos Estados Unidos, onde foi considerada, por vários críticos, a maior virtuose do mundo., Guiomar Novaes tinha viajado para os EUA em dezembro de 1920 para realizar uma série de concertos, mas foi tanto o seu sucesso em Nova York e em outras cidades que a sequência de apresentações teve que ser ampliada., Ela tem recebido propostas para t...   \n",
       "2  [A missão italiana de mutilados na guerra chegou ao Rio de Janeiro, nesta quinta-feira (25), vinda de Buenos Aires, onde buscou angariar donativos., O grupo, chefiado pelo tenente Carlo Delcroix, veio ao Brasil com o mesmo objetivo. Por meio de conferências e de outras atividades, vai tentar arrecadar fundos para minorar o sofrimento dos feridos no conflito., Elevado número de membros da colônia italiana no Rio compareceu ao desembarque da missão. Várias festas devem ser feitas., No início d...   \n",
       "3  [A França deu o seu “sim” para o ingresso do Reino Unido no Mercado Comum Europeu, depois de dez horas de conversações entre o presidente francês, Georges Pompidou, e o primeiro-ministro britânico, Edward Heath., A entrada pode ser concretizada já no próximo mês., O comunicado, com a declaração conjunta, afirma que muitos pontos de vista são suficientes próximos que não há pessimismo., O Mercado Comum Europeu é formado pela Alemanha Ocidental, Bélgica, Itália, Holanda, Luxemburgo e França., ...   \n",
       "4  [Uma empresa particular, de Campinas, vai passar a vender carne fresca para os moradores da cidade de São Paulo a partir desta terça-feira (10)., Por causa da peste bovina, a população da capital vinha sendo abastecida com carnes apenas congeladas ou frigorificadas. No entanto, muitos não gostam de comprar assim e reclamam da qualidade. Além disso, o preço está elevado., O fato é que o paulistano acabou reduzindo o consumo nesse período., Isso induziu a empresa Figueiredo & Cia a preparar um...   \n",
       "\n",
       "                                                                                                                                                                                                                                                                                                                                                                                         Paragrafos_processados  \n",
       "0  sendo burlada proibição transportar animais estradas convergem paulo dias aparecimento peste bovina arredores capital autoridades sanitárias tinham lembrado governo necessidade estabelecer proibição apesar medida jornais noticiaram ida cavalos corrida capital santos mascarar manobra animais enviados bernardo transportados cidade ocorre transmissão peste fosse patas cavalos ingleses custam caro  \n",
       "1                                               pianista guiomar novaes chegou paulo veio trem noturno rio janeiro regressar viagem triunfal estados unidos considerada críticos virtuose mundo guiomar novaes tinha viajado eua dezembro realizar série concertos sucesso york cidades sequência apresentações ampliada recebido propostas tocar londres paris chegada paulo admiradores esperaram estação luz  \n",
       "2                                    missão italiana mutilados guerra chegou rio janeiro buenos aires buscou angariar donativos chefiado tenente carlo delcroix veio brasil objetivo conferências atividades arrecadar fundos minorar sofrimento feridos conflito elevado membros colônia italiana rio compareceu desembarque missão várias festas feitas início junho embarcará paulo prepara festiva recepção  \n",
       "3                           frança deu ingresso reino unido mercado comum europeu horas conversações presidente francês georges pompidou britânico edward heath entrada concretizada comunicado declaração conjunta afirma vista suficientes próximos há pessimismo mercado comum europeu formado alemanha ocidental bélgica itália holanda luxemburgo frança noruega dinamarca irlanda ambicionam entrar bloco  \n",
       "4                                           empresa particular campinas passar vender carne fresca moradores cidade paulo causa peste bovina população capital vinha sendo abastecida carnes congeladas frigorificadas entanto gostam comprar reclamam qualidade preço elevado fato paulistano acabou reduzindo consumo período induziu empresa figueiredo cia preparar plano transportar carne paulo dia abate  "
      ],
      "text/html": "<div>\n<style scoped>\n    .dataframe tbody tr th:only-of-type {\n        vertical-align: middle;\n    }\n\n    .dataframe tbody tr th {\n        vertical-align: top;\n    }\n\n    .dataframe thead th {\n        text-align: right;\n    }\n</style>\n<table border=\"1\" class=\"dataframe\">\n  <thead>\n    <tr style=\"text-align: right;\">\n      <th></th>\n      <th>Paragrafos</th>\n      <th>Paragrafos_processados</th>\n    </tr>\n  </thead>\n  <tbody>\n    <tr>\n      <th>0</th>\n      <td>[Está sendo burlada a proibição de transportar animais nas estradas que convergem a São Paulo., Dias depois do aparecimento da peste bovina nos arredores da capital, as autoridades sanitárias tinham lembrado o governo da necessidade de estabelecer essa proibição., Apesar da medida, jornais noticiaram a ida e vinda de cavalos de corrida entre a capital e Santos. A fim de mascarar a manobra, os animais são enviados para São Bernardo e de lá são transportados para a outra cidade., Isso ocorre c...</td>\n      <td>sendo burlada proibição transportar animais estradas convergem paulo dias aparecimento peste bovina arredores capital autoridades sanitárias tinham lembrado governo necessidade estabelecer proibição apesar medida jornais noticiaram ida cavalos corrida capital santos mascarar manobra animais enviados bernardo transportados cidade ocorre transmissão peste fosse patas cavalos ingleses custam caro</td>\n    </tr>\n    <tr>\n      <th>1</th>\n      <td>[A pianista Guiomar Novaes chegou a São Paulo nesta quinta-feira (2). Ela veio em um trem noturno do Rio de Janeiro, após regressar de uma viagem triunfal aos Estados Unidos, onde foi considerada, por vários críticos, a maior virtuose do mundo., Guiomar Novaes tinha viajado para os EUA em dezembro de 1920 para realizar uma série de concertos, mas foi tanto o seu sucesso em Nova York e em outras cidades que a sequência de apresentações teve que ser ampliada., Ela tem recebido propostas para t...</td>\n      <td>pianista guiomar novaes chegou paulo veio trem noturno rio janeiro regressar viagem triunfal estados unidos considerada críticos virtuose mundo guiomar novaes tinha viajado eua dezembro realizar série concertos sucesso york cidades sequência apresentações ampliada recebido propostas tocar londres paris chegada paulo admiradores esperaram estação luz</td>\n    </tr>\n    <tr>\n      <th>2</th>\n      <td>[A missão italiana de mutilados na guerra chegou ao Rio de Janeiro, nesta quinta-feira (25), vinda de Buenos Aires, onde buscou angariar donativos., O grupo, chefiado pelo tenente Carlo Delcroix, veio ao Brasil com o mesmo objetivo. Por meio de conferências e de outras atividades, vai tentar arrecadar fundos para minorar o sofrimento dos feridos no conflito., Elevado número de membros da colônia italiana no Rio compareceu ao desembarque da missão. Várias festas devem ser feitas., No início d...</td>\n      <td>missão italiana mutilados guerra chegou rio janeiro buenos aires buscou angariar donativos chefiado tenente carlo delcroix veio brasil objetivo conferências atividades arrecadar fundos minorar sofrimento feridos conflito elevado membros colônia italiana rio compareceu desembarque missão várias festas feitas início junho embarcará paulo prepara festiva recepção</td>\n    </tr>\n    <tr>\n      <th>3</th>\n      <td>[A França deu o seu “sim” para o ingresso do Reino Unido no Mercado Comum Europeu, depois de dez horas de conversações entre o presidente francês, Georges Pompidou, e o primeiro-ministro britânico, Edward Heath., A entrada pode ser concretizada já no próximo mês., O comunicado, com a declaração conjunta, afirma que muitos pontos de vista são suficientes próximos que não há pessimismo., O Mercado Comum Europeu é formado pela Alemanha Ocidental, Bélgica, Itália, Holanda, Luxemburgo e França., ...</td>\n      <td>frança deu ingresso reino unido mercado comum europeu horas conversações presidente francês georges pompidou britânico edward heath entrada concretizada comunicado declaração conjunta afirma vista suficientes próximos há pessimismo mercado comum europeu formado alemanha ocidental bélgica itália holanda luxemburgo frança noruega dinamarca irlanda ambicionam entrar bloco</td>\n    </tr>\n    <tr>\n      <th>4</th>\n      <td>[Uma empresa particular, de Campinas, vai passar a vender carne fresca para os moradores da cidade de São Paulo a partir desta terça-feira (10)., Por causa da peste bovina, a população da capital vinha sendo abastecida com carnes apenas congeladas ou frigorificadas. No entanto, muitos não gostam de comprar assim e reclamam da qualidade. Além disso, o preço está elevado., O fato é que o paulistano acabou reduzindo o consumo nesse período., Isso induziu a empresa Figueiredo &amp; Cia a preparar um...</td>\n      <td>empresa particular campinas passar vender carne fresca moradores cidade paulo causa peste bovina população capital vinha sendo abastecida carnes congeladas frigorificadas entanto gostam comprar reclamam qualidade preço elevado fato paulistano acabou reduzindo consumo período induziu empresa figueiredo cia preparar plano transportar carne paulo dia abate</td>\n    </tr>\n  </tbody>\n</table>\n</div>"
     },
     "metadata": {},
     "execution_count": 83
    }
   ],
   "source": [
    "df_paragrafos[\"Paragrafos_processados\"] = artigos_processados\n",
    "df_paragrafos.head()"
   ]
  },
  {
   "cell_type": "code",
   "execution_count": null,
   "metadata": {},
   "outputs": [],
   "source": []
  }
 ]
}